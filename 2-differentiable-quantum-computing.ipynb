{
  "cells": [
    {
      "cell_type": "markdown",
      "metadata": {
        "id": "view-in-github",
        "colab_type": "text"
      },
      "source": [
        "<a href=\"https://colab.research.google.com/github/asahilkamble108/ANN-mini/blob/main/2-differentiable-quantum-computing.ipynb\" target=\"_parent\"><img src=\"https://colab.research.google.com/assets/colab-badge.svg\" alt=\"Open In Colab\"/></a>"
      ]
    },
    {
      "cell_type": "code",
      "execution_count": 2,
      "metadata": {
        "id": "nTR6KaDYI86X"
      },
      "outputs": [],
      "source": [
        "%%capture\n",
        "\n",
        "# Comment this out if you don't want to install pennylane from this notebook\n",
        "!pip install pennylane\n",
        "\n",
        "# Comment this out if you don't want to install matplotlib from this notebook\n",
        "!pip install matplotlib"
      ]
    },
    {
      "cell_type": "markdown",
      "metadata": {
        "id": "ViJy_slwI86e"
      },
      "source": [
        "# Differentiable quantum computing with PennyLane\n",
        "\n",
        "In this tutorial we will:\n",
        "\n",
        "* learn step-by-step how quantum computations are implemented in PennyLane,\n",
        "* understand parameter-dependent quantum computations (\"variational circuits\"),\n",
        "* build our first quantum machine learning model, and\n",
        "* compute its gradient.\n",
        "\n",
        "We need the following imports:"
      ]
    },
    {
      "cell_type": "code",
      "execution_count": 31,
      "metadata": {
        "id": "gym_3cbziWfK"
      },
      "outputs": [],
      "source": [
        "import pennylane as qml\n",
        "from pennylane import numpy as np"
      ]
    },
    {
      "cell_type": "code",
      "source": [
        "import pandas as pd\n",
        "\n",
        "df = pd.read_csv('tor.csv')\n",
        "print(df.head())\n",
        "print(df.shape)\n",
        "print(df.dtypes)"
      ],
      "metadata": {
        "id": "m4jb2oAyMdym",
        "outputId": "e9f7310a-9c99-46b9-f1c6-92a261e0daa7",
        "colab": {
          "base_uri": "https://localhost:8080/"
        }
      },
      "execution_count": 41,
      "outputs": [
        {
          "output_type": "stream",
          "name": "stdout",
          "text": [
            "   Source IP   Source Port  Destination IP   Destination Port   Protocol  \\\n",
            "0  10.0.2.15         53913   216.58.208.46                 80          6   \n",
            "1  10.0.2.15         53913   216.58.208.46                 80          6   \n",
            "2  10.0.2.15         53913   216.58.208.46                 80          6   \n",
            "3  10.0.2.15         53913   216.58.208.46                 80          6   \n",
            "4  10.0.2.15         53913   216.58.208.46                 80          6   \n",
            "\n",
            "    Flow Duration   Flow Bytes/s   Flow Packets/s   Flow IAT Mean  \\\n",
            "0             435            0.0      4597.701149           435.0   \n",
            "1             259            0.0      7722.007722           259.0   \n",
            "2             891            0.0      2244.668911           891.0   \n",
            "3            1074            0.0      1862.197393          1074.0   \n",
            "4             315            0.0      6349.206349           315.0   \n",
            "\n",
            "    Flow IAT Std  ...   Bwd IAT Min  Active Mean   Active Std   Active Max  \\\n",
            "0            0.0  ...             0            0            0            0   \n",
            "1            0.0  ...             0            0            0            0   \n",
            "2            0.0  ...             0            0            0            0   \n",
            "3            0.0  ...             0            0            0            0   \n",
            "4            0.0  ...             0            0            0            0   \n",
            "\n",
            "    Active Min  Idle Mean   Idle Std   Idle Max   Idle Min   label  \n",
            "0            0          0          0          0          0  nonTOR  \n",
            "1            0          0          0          0          0  nonTOR  \n",
            "2            0          0          0          0          0  nonTOR  \n",
            "3            0          0          0          0          0  nonTOR  \n",
            "4            0          0          0          0          0  nonTOR  \n",
            "\n",
            "[5 rows x 29 columns]\n",
            "(67834, 29)\n",
            "Source IP             object\n",
            " Source Port           int64\n",
            " Destination IP       object\n",
            " Destination Port      int64\n",
            " Protocol              int64\n",
            " Flow Duration         int64\n",
            " Flow Bytes/s        float64\n",
            " Flow Packets/s      float64\n",
            " Flow IAT Mean       float64\n",
            " Flow IAT Std        float64\n",
            " Flow IAT Max          int64\n",
            " Flow IAT Min          int64\n",
            "Fwd IAT Mean         float64\n",
            " Fwd IAT Std         float64\n",
            " Fwd IAT Max           int64\n",
            " Fwd IAT Min           int64\n",
            "Bwd IAT Mean         float64\n",
            " Bwd IAT Std         float64\n",
            " Bwd IAT Max           int64\n",
            " Bwd IAT Min           int64\n",
            "Active Mean            int64\n",
            " Active Std            int64\n",
            " Active Max            int64\n",
            " Active Min            int64\n",
            "Idle Mean              int64\n",
            " Idle Std              int64\n",
            " Idle Max              int64\n",
            " Idle Min              int64\n",
            "label                 object\n",
            "dtype: object\n"
          ]
        }
      ]
    },
    {
      "cell_type": "code",
      "source": [
        "print(df.isnull().sum())"
      ],
      "metadata": {
        "id": "FFeGbHGYMd-O",
        "outputId": "e806c4c4-3a3e-44c6-99c7-d3c223417ff7",
        "colab": {
          "base_uri": "https://localhost:8080/"
        }
      },
      "execution_count": 42,
      "outputs": [
        {
          "output_type": "stream",
          "name": "stdout",
          "text": [
            "Source IP            0\n",
            " Source Port         0\n",
            " Destination IP      0\n",
            " Destination Port    0\n",
            " Protocol            0\n",
            " Flow Duration       0\n",
            " Flow Bytes/s        2\n",
            " Flow Packets/s      0\n",
            " Flow IAT Mean       0\n",
            " Flow IAT Std        0\n",
            " Flow IAT Max        0\n",
            " Flow IAT Min        0\n",
            "Fwd IAT Mean         0\n",
            " Fwd IAT Std         0\n",
            " Fwd IAT Max         0\n",
            " Fwd IAT Min         0\n",
            "Bwd IAT Mean         0\n",
            " Bwd IAT Std         0\n",
            " Bwd IAT Max         0\n",
            " Bwd IAT Min         0\n",
            "Active Mean          0\n",
            " Active Std          0\n",
            " Active Max          0\n",
            " Active Min          0\n",
            "Idle Mean            0\n",
            " Idle Std            0\n",
            " Idle Max            0\n",
            " Idle Min            0\n",
            "label                0\n",
            "dtype: int64\n"
          ]
        }
      ]
    },
    {
      "cell_type": "code",
      "source": [
        "df = df.drop(['Source IP', ' Destination IP'], axis=1)"
      ],
      "metadata": {
        "id": "5GguF-V8MxcL"
      },
      "execution_count": 43,
      "outputs": []
    },
    {
      "cell_type": "code",
      "source": [
        "for i in range(len(df['label'])):\n",
        "    if df['label'][i] == 'TOR':\n",
        "        df['label'][i] = 1\n",
        "    else:\n",
        "        df['label'][i] = 0"
      ],
      "metadata": {
        "id": "WjRHUAbSZLRv",
        "outputId": "668f2574-ab2b-4f5d-fbc8-07ac2a09d9ac",
        "colab": {
          "base_uri": "https://localhost:8080/"
        }
      },
      "execution_count": 44,
      "outputs": [
        {
          "output_type": "stream",
          "name": "stderr",
          "text": [
            "<ipython-input-44-8054b4562e16>:5: SettingWithCopyWarning: \n",
            "A value is trying to be set on a copy of a slice from a DataFrame\n",
            "\n",
            "See the caveats in the documentation: https://pandas.pydata.org/pandas-docs/stable/user_guide/indexing.html#returning-a-view-versus-a-copy\n",
            "  df['label'][i] = 0\n",
            "<ipython-input-44-8054b4562e16>:3: SettingWithCopyWarning: \n",
            "A value is trying to be set on a copy of a slice from a DataFrame\n",
            "\n",
            "See the caveats in the documentation: https://pandas.pydata.org/pandas-docs/stable/user_guide/indexing.html#returning-a-view-versus-a-copy\n",
            "  df['label'][i] = 1\n"
          ]
        }
      ]
    },
    {
      "cell_type": "code",
      "source": [],
      "metadata": {
        "id": "5coMyI-oZLy1"
      },
      "execution_count": null,
      "outputs": []
    },
    {
      "cell_type": "code",
      "source": [],
      "metadata": {
        "id": "LJE89LK8ZL2j"
      },
      "execution_count": null,
      "outputs": []
    },
    {
      "cell_type": "code",
      "source": [
        "\n",
        "\n",
        "\n",
        "\n"
      ],
      "metadata": {
        "id": "KqhCXzaxMeBO"
      },
      "execution_count": 49,
      "outputs": []
    },
    {
      "cell_type": "code",
      "source": [
        "for col in df.columns:\n",
        "    if df[col].isin([np.inf, -np.inf]).any():\n",
        "        print(col)"
      ],
      "metadata": {
        "id": "MFmoGOi_QR1G",
        "outputId": "8e07ce0d-ea3c-41ab-b7dc-046548eb4726",
        "colab": {
          "base_uri": "https://localhost:8080/"
        }
      },
      "execution_count": 45,
      "outputs": [
        {
          "output_type": "stream",
          "name": "stdout",
          "text": [
            " Flow Bytes/s\n",
            " Flow Packets/s\n"
          ]
        }
      ]
    },
    {
      "cell_type": "code",
      "source": [
        "df = df.replace([np.inf, -np.inf], np.nan)"
      ],
      "metadata": {
        "id": "yHXrHdUpQSF6"
      },
      "execution_count": 46,
      "outputs": []
    },
    {
      "cell_type": "code",
      "source": [
        "thresh = 1e15\n",
        "\n",
        "num_cols = [' Flow Duration', ' Flow Bytes/s', ' Flow Packets/s',\n",
        "       ' Flow IAT Mean', ' Flow IAT Std', ' Flow IAT Max', ' Flow IAT Min',\n",
        "       'Fwd IAT Mean', ' Fwd IAT Std', ' Fwd IAT Max', ' Fwd IAT Min',\n",
        "       'Bwd IAT Mean', ' Bwd IAT Std', ' Bwd IAT Max', ' Bwd IAT Min',\n",
        "       'Active Mean', ' Active Std', ' Active Max', ' Active Min', 'Idle Mean',\n",
        "       ' Idle Std', ' Idle Max', ' Idle Min'] # numeric columns\n",
        "\n",
        "for col in num_cols:\n",
        "   if df[col].abs().max() > thresh:\n",
        "      df[col] = df[col].clip(upper=thresh, lower=-thresh)"
      ],
      "metadata": {
        "id": "tupsehNzQY1g"
      },
      "execution_count": 47,
      "outputs": []
    },
    {
      "cell_type": "code",
      "source": [
        "df_numeric = df.select_dtypes(include=[np.number])\n",
        "thresh = 1e15\n",
        "\n",
        "for col in df_numeric.columns:\n",
        "   if df_numeric[col].abs().max() > thresh:\n",
        "     df_numeric[col] = df_numeric[col].clip(upper=thresh, lower=-thresh)\n",
        "\n",
        "df[df_numeric.columns] = df_numeric"
      ],
      "metadata": {
        "id": "vUSwnxWlR0qg"
      },
      "execution_count": 48,
      "outputs": []
    },
    {
      "cell_type": "code",
      "source": [
        "imputer.fit_transform(df)"
      ],
      "metadata": {
        "id": "_Nn9kqNEYqoI",
        "outputId": "154a2664-3d69-4cb8-bb88-e4efade47af7",
        "colab": {
          "base_uri": "https://localhost:8080/"
        }
      },
      "execution_count": 49,
      "outputs": [
        {
          "output_type": "execute_result",
          "data": {
            "text/plain": [
              "array([[5.3913e+04, 8.0000e+01, 6.0000e+00, ..., 0.0000e+00, 0.0000e+00,\n",
              "        0.0000e+00],\n",
              "       [5.3913e+04, 8.0000e+01, 6.0000e+00, ..., 0.0000e+00, 0.0000e+00,\n",
              "        0.0000e+00],\n",
              "       [5.3913e+04, 8.0000e+01, 6.0000e+00, ..., 0.0000e+00, 0.0000e+00,\n",
              "        0.0000e+00],\n",
              "       ...,\n",
              "       [1.1365e+04, 4.4300e+02, 6.0000e+00, ..., 0.0000e+00, 0.0000e+00,\n",
              "        0.0000e+00],\n",
              "       [1.3000e+04, 6.4584e+04, 6.0000e+00, ..., 0.0000e+00, 0.0000e+00,\n",
              "        0.0000e+00],\n",
              "       [8.0000e+01, 6.5089e+04, 6.0000e+00, ..., 0.0000e+00, 0.0000e+00,\n",
              "        0.0000e+00]])"
            ]
          },
          "metadata": {},
          "execution_count": 49
        }
      ]
    },
    {
      "cell_type": "code",
      "source": [
        "from sklearn.preprocessing import LabelEncoder\n",
        "\n",
        "le = LabelEncoder()\n",
        "df['Protocol'] = le.fit_transform(df['Protocol'])"
      ],
      "metadata": {
        "id": "EY0QPKDmRgWl",
        "outputId": "af45d413-9e6e-43ce-cc8c-dfb9c759a2b5",
        "colab": {
          "base_uri": "https://localhost:8080/",
          "height": 511
        }
      },
      "execution_count": 51,
      "outputs": [
        {
          "output_type": "error",
          "ename": "KeyError",
          "evalue": "ignored",
          "traceback": [
            "\u001b[0;31m---------------------------------------------------------------------------\u001b[0m",
            "\u001b[0;31mKeyError\u001b[0m                                  Traceback (most recent call last)",
            "\u001b[0;32m/usr/local/lib/python3.10/dist-packages/pandas/core/indexes/base.py\u001b[0m in \u001b[0;36mget_loc\u001b[0;34m(self, key, method, tolerance)\u001b[0m\n\u001b[1;32m   3801\u001b[0m             \u001b[0;32mtry\u001b[0m\u001b[0;34m:\u001b[0m\u001b[0;34m\u001b[0m\u001b[0;34m\u001b[0m\u001b[0m\n\u001b[0;32m-> 3802\u001b[0;31m                 \u001b[0;32mreturn\u001b[0m \u001b[0mself\u001b[0m\u001b[0;34m.\u001b[0m\u001b[0m_engine\u001b[0m\u001b[0;34m.\u001b[0m\u001b[0mget_loc\u001b[0m\u001b[0;34m(\u001b[0m\u001b[0mcasted_key\u001b[0m\u001b[0;34m)\u001b[0m\u001b[0;34m\u001b[0m\u001b[0;34m\u001b[0m\u001b[0m\n\u001b[0m\u001b[1;32m   3803\u001b[0m             \u001b[0;32mexcept\u001b[0m \u001b[0mKeyError\u001b[0m \u001b[0;32mas\u001b[0m \u001b[0merr\u001b[0m\u001b[0;34m:\u001b[0m\u001b[0;34m\u001b[0m\u001b[0;34m\u001b[0m\u001b[0m\n",
            "\u001b[0;32m/usr/local/lib/python3.10/dist-packages/pandas/_libs/index.pyx\u001b[0m in \u001b[0;36mpandas._libs.index.IndexEngine.get_loc\u001b[0;34m()\u001b[0m\n",
            "\u001b[0;32m/usr/local/lib/python3.10/dist-packages/pandas/_libs/index.pyx\u001b[0m in \u001b[0;36mpandas._libs.index.IndexEngine.get_loc\u001b[0;34m()\u001b[0m\n",
            "\u001b[0;32mpandas/_libs/hashtable_class_helper.pxi\u001b[0m in \u001b[0;36mpandas._libs.hashtable.PyObjectHashTable.get_item\u001b[0;34m()\u001b[0m\n",
            "\u001b[0;32mpandas/_libs/hashtable_class_helper.pxi\u001b[0m in \u001b[0;36mpandas._libs.hashtable.PyObjectHashTable.get_item\u001b[0;34m()\u001b[0m\n",
            "\u001b[0;31mKeyError\u001b[0m: 'Protocol'",
            "\nThe above exception was the direct cause of the following exception:\n",
            "\u001b[0;31mKeyError\u001b[0m                                  Traceback (most recent call last)",
            "\u001b[0;32m<ipython-input-51-909080bf9074>\u001b[0m in \u001b[0;36m<cell line: 4>\u001b[0;34m()\u001b[0m\n\u001b[1;32m      2\u001b[0m \u001b[0;34m\u001b[0m\u001b[0m\n\u001b[1;32m      3\u001b[0m \u001b[0mle\u001b[0m \u001b[0;34m=\u001b[0m \u001b[0mLabelEncoder\u001b[0m\u001b[0;34m(\u001b[0m\u001b[0;34m)\u001b[0m\u001b[0;34m\u001b[0m\u001b[0;34m\u001b[0m\u001b[0m\n\u001b[0;32m----> 4\u001b[0;31m \u001b[0mdf\u001b[0m\u001b[0;34m[\u001b[0m\u001b[0;34m'Protocol'\u001b[0m\u001b[0;34m]\u001b[0m \u001b[0;34m=\u001b[0m \u001b[0mle\u001b[0m\u001b[0;34m.\u001b[0m\u001b[0mfit_transform\u001b[0m\u001b[0;34m(\u001b[0m\u001b[0mdf\u001b[0m\u001b[0;34m[\u001b[0m\u001b[0;34m'Protocol'\u001b[0m\u001b[0;34m]\u001b[0m\u001b[0;34m)\u001b[0m\u001b[0;34m\u001b[0m\u001b[0;34m\u001b[0m\u001b[0m\n\u001b[0m",
            "\u001b[0;32m/usr/local/lib/python3.10/dist-packages/pandas/core/frame.py\u001b[0m in \u001b[0;36m__getitem__\u001b[0;34m(self, key)\u001b[0m\n\u001b[1;32m   3805\u001b[0m             \u001b[0;32mif\u001b[0m \u001b[0mself\u001b[0m\u001b[0;34m.\u001b[0m\u001b[0mcolumns\u001b[0m\u001b[0;34m.\u001b[0m\u001b[0mnlevels\u001b[0m \u001b[0;34m>\u001b[0m \u001b[0;36m1\u001b[0m\u001b[0;34m:\u001b[0m\u001b[0;34m\u001b[0m\u001b[0;34m\u001b[0m\u001b[0m\n\u001b[1;32m   3806\u001b[0m                 \u001b[0;32mreturn\u001b[0m \u001b[0mself\u001b[0m\u001b[0;34m.\u001b[0m\u001b[0m_getitem_multilevel\u001b[0m\u001b[0;34m(\u001b[0m\u001b[0mkey\u001b[0m\u001b[0;34m)\u001b[0m\u001b[0;34m\u001b[0m\u001b[0;34m\u001b[0m\u001b[0m\n\u001b[0;32m-> 3807\u001b[0;31m             \u001b[0mindexer\u001b[0m \u001b[0;34m=\u001b[0m \u001b[0mself\u001b[0m\u001b[0;34m.\u001b[0m\u001b[0mcolumns\u001b[0m\u001b[0;34m.\u001b[0m\u001b[0mget_loc\u001b[0m\u001b[0;34m(\u001b[0m\u001b[0mkey\u001b[0m\u001b[0;34m)\u001b[0m\u001b[0;34m\u001b[0m\u001b[0;34m\u001b[0m\u001b[0m\n\u001b[0m\u001b[1;32m   3808\u001b[0m             \u001b[0;32mif\u001b[0m \u001b[0mis_integer\u001b[0m\u001b[0;34m(\u001b[0m\u001b[0mindexer\u001b[0m\u001b[0;34m)\u001b[0m\u001b[0;34m:\u001b[0m\u001b[0;34m\u001b[0m\u001b[0;34m\u001b[0m\u001b[0m\n\u001b[1;32m   3809\u001b[0m                 \u001b[0mindexer\u001b[0m \u001b[0;34m=\u001b[0m \u001b[0;34m[\u001b[0m\u001b[0mindexer\u001b[0m\u001b[0;34m]\u001b[0m\u001b[0;34m\u001b[0m\u001b[0;34m\u001b[0m\u001b[0m\n",
            "\u001b[0;32m/usr/local/lib/python3.10/dist-packages/pandas/core/indexes/base.py\u001b[0m in \u001b[0;36mget_loc\u001b[0;34m(self, key, method, tolerance)\u001b[0m\n\u001b[1;32m   3802\u001b[0m                 \u001b[0;32mreturn\u001b[0m \u001b[0mself\u001b[0m\u001b[0;34m.\u001b[0m\u001b[0m_engine\u001b[0m\u001b[0;34m.\u001b[0m\u001b[0mget_loc\u001b[0m\u001b[0;34m(\u001b[0m\u001b[0mcasted_key\u001b[0m\u001b[0;34m)\u001b[0m\u001b[0;34m\u001b[0m\u001b[0;34m\u001b[0m\u001b[0m\n\u001b[1;32m   3803\u001b[0m             \u001b[0;32mexcept\u001b[0m \u001b[0mKeyError\u001b[0m \u001b[0;32mas\u001b[0m \u001b[0merr\u001b[0m\u001b[0;34m:\u001b[0m\u001b[0;34m\u001b[0m\u001b[0;34m\u001b[0m\u001b[0m\n\u001b[0;32m-> 3804\u001b[0;31m                 \u001b[0;32mraise\u001b[0m \u001b[0mKeyError\u001b[0m\u001b[0;34m(\u001b[0m\u001b[0mkey\u001b[0m\u001b[0;34m)\u001b[0m \u001b[0;32mfrom\u001b[0m \u001b[0merr\u001b[0m\u001b[0;34m\u001b[0m\u001b[0;34m\u001b[0m\u001b[0m\n\u001b[0m\u001b[1;32m   3805\u001b[0m             \u001b[0;32mexcept\u001b[0m \u001b[0mTypeError\u001b[0m\u001b[0;34m:\u001b[0m\u001b[0;34m\u001b[0m\u001b[0;34m\u001b[0m\u001b[0m\n\u001b[1;32m   3806\u001b[0m                 \u001b[0;31m# If we have a listlike key, _check_indexing_error will raise\u001b[0m\u001b[0;34m\u001b[0m\u001b[0;34m\u001b[0m\u001b[0m\n",
            "\u001b[0;31mKeyError\u001b[0m: 'Protocol'"
          ]
        }
      ]
    },
    {
      "cell_type": "code",
      "source": [
        "from sklearn.preprocessing import MinMaxScaler\n",
        "\n",
        "scaler = MinMaxScaler()\n",
        "num_features = [' Flow Duration', ' Flow Bytes/s', ' Flow Packets/s',\n",
        "       ' Flow IAT Mean', ' Flow IAT Std', ' Flow IAT Max', ' Flow IAT Min',\n",
        "       'Fwd IAT Mean', ' Fwd IAT Std', ' Fwd IAT Max', ' Fwd IAT Min',\n",
        "       'Bwd IAT Mean', ' Bwd IAT Std', ' Bwd IAT Max', ' Bwd IAT Min',\n",
        "       'Active Mean', ' Active Std', ' Active Max', ' Active Min', 'Idle Mean',\n",
        "       ' Idle Std', ' Idle Max', ' Idle Min']\n",
        "df[num_features] = scaler.fit_transform(df[num_features])"
      ],
      "metadata": {
        "id": "nCSFY1naSXoB"
      },
      "execution_count": 52,
      "outputs": []
    },
    {
      "cell_type": "code",
      "source": [],
      "metadata": {
        "id": "qEZ2OXYDMeDz",
        "outputId": "36c668b4-977b-4403-955f-b844209e1740",
        "colab": {
          "base_uri": "https://localhost:8080/"
        }
      },
      "execution_count": 12,
      "outputs": [
        {
          "output_type": "stream",
          "name": "stdout",
          "text": [
            "Index(['Source IP', ' Source Port', ' Destination IP', ' Destination Port',\n",
            "       ' Protocol', ' Flow Duration', ' Flow Bytes/s', ' Flow Packets/s',\n",
            "       ' Flow IAT Mean', ' Flow IAT Std', ' Flow IAT Max', ' Flow IAT Min',\n",
            "       'Fwd IAT Mean', ' Fwd IAT Std', ' Fwd IAT Max', ' Fwd IAT Min',\n",
            "       'Bwd IAT Mean', ' Bwd IAT Std', ' Bwd IAT Max', ' Bwd IAT Min',\n",
            "       'Active Mean', ' Active Std', ' Active Max', ' Active Min', 'Idle Mean',\n",
            "       ' Idle Std', ' Idle Max', ' Idle Min', 'label'],\n",
            "      dtype='object')\n"
          ]
        }
      ]
    },
    {
      "cell_type": "code",
      "source": [],
      "metadata": {
        "id": "CmzNnENZMeGN"
      },
      "execution_count": null,
      "outputs": []
    },
    {
      "cell_type": "code",
      "source": [],
      "metadata": {
        "id": "oNoX8yprMeIz"
      },
      "execution_count": null,
      "outputs": []
    },
    {
      "cell_type": "code",
      "source": [],
      "metadata": {
        "id": "hw1TN_hnMeLS"
      },
      "execution_count": null,
      "outputs": []
    },
    {
      "cell_type": "code",
      "source": [],
      "metadata": {
        "id": "KS9L0EQIMeNv"
      },
      "execution_count": null,
      "outputs": []
    },
    {
      "cell_type": "code",
      "source": [],
      "metadata": {
        "id": "4N5eMjVVMeQQ"
      },
      "execution_count": null,
      "outputs": []
    },
    {
      "cell_type": "code",
      "source": [],
      "metadata": {
        "id": "0K8q-QTMMeTw"
      },
      "execution_count": null,
      "outputs": []
    },
    {
      "cell_type": "markdown",
      "metadata": {
        "id": "j0takToZI86f"
      },
      "source": [
        "## 1. Quantum nodes"
      ]
    },
    {
      "cell_type": "markdown",
      "metadata": {
        "id": "3u-3eEPchh3N"
      },
      "source": [
        "In PennyLane, a *quantum node* is a computational unit that involves the construction, evaluation, pre- and postprocessing of quantum computations.\n",
        "\n",
        "A quantum node consists of a *quantum function* that defines a circuit, as well as a *device* on which it is run.\n",
        "\n",
        "There is a growing [device ecosystem](https://pennylane.ai/plugins.html) which allows you to change only one line of code to dispatch your quantum computation to local simulators, remote simulators and remote hardware from different vendors.\n",
        "\n",
        "Here we will use the built-in `default.qubit` device."
      ]
    },
    {
      "cell_type": "code",
      "execution_count": null,
      "metadata": {
        "id": "WfIzfl6hI86f"
      },
      "outputs": [],
      "source": [
        "dev = qml.device('default.qubit', wires=2)"
      ]
    },
    {
      "cell_type": "markdown",
      "metadata": {
        "id": "Nfos0bHMKVtg"
      },
      "source": [
        "To combine the device with a quantum function to a quantum node we can use the `qml.qnode` decorator. The function can then be evaluated as if it was any other python function. Internally, it will construct a circuit and run it on the device."
      ]
    },
    {
      "cell_type": "code",
      "execution_count": null,
      "metadata": {
        "id": "RFK52wXWKVtg",
        "outputId": "b4bc8a20-348e-49ce-80c6-a6324d73f9e5"
      },
      "outputs": [
        {
          "data": {
            "text/plain": [
              "tensor([0.5, 0. , 0.5, 0. ], requires_grad=True)"
            ]
          },
          "execution_count": 4,
          "metadata": {},
          "output_type": "execute_result"
        }
      ],
      "source": [
        "@qml.qnode(dev)\n",
        "def circuit():\n",
        "    qml.Hadamard(wires=0)\n",
        "    return qml.probs(wires=[0, 1])\n",
        "\n",
        "circuit()"
      ]
    },
    {
      "cell_type": "markdown",
      "metadata": {
        "id": "XAanbUX-KVti"
      },
      "source": [
        "## 2. Building quantum circuits"
      ]
    },
    {
      "cell_type": "markdown",
      "metadata": {
        "id": "B7QxsiAdI86g"
      },
      "source": [
        "### The initial state\n",
        "\n",
        "<br />\n",
        "<img src=\"https://github.com/XanaduAI/pennylane-demo-cern/blob/main/figures/1.png?raw=1\" width=\"500\" height=\"100\">\n",
        "<br />\n",
        "\n",
        "The initial state has 100% probability to be measured in the \"0..0\" configuration. Let's see how we can verify this with PennyLane."
      ]
    },
    {
      "cell_type": "code",
      "execution_count": null,
      "metadata": {
        "colab": {
          "base_uri": "https://localhost:8080/"
        },
        "id": "0uWBZqMsI86g",
        "outputId": "21f1e0c5-8dbe-4f81-f492-cf9a27a8958d"
      },
      "outputs": [
        {
          "data": {
            "text/plain": [
              "tensor([1., 0., 0., 0.], requires_grad=True)"
            ]
          },
          "execution_count": 5,
          "metadata": {},
          "output_type": "execute_result"
        }
      ],
      "source": [
        "@qml.qnode(dev)\n",
        "def circuit():\n",
        "    return qml.probs(wires=[0, 1])\n",
        "\n",
        "circuit()"
      ]
    },
    {
      "cell_type": "markdown",
      "metadata": {
        "id": "4vYHmef8I86h"
      },
      "source": [
        "The internal state vector that we use to mathematically keep track of probabilities is complex-valued. Since `default.qubit` is a simulator we can have a look at the state, for example by checking the device's `state` attribute."
      ]
    },
    {
      "cell_type": "code",
      "execution_count": null,
      "metadata": {
        "colab": {
          "base_uri": "https://localhost:8080/"
        },
        "id": "a3sx1keQI86h",
        "outputId": "0928e9a4-2676-4ef3-ff08-d598171b993e"
      },
      "outputs": [
        {
          "data": {
            "text/plain": [
              "tensor([1.+0.j, 0.+0.j, 0.+0.j, 0.+0.j], requires_grad=True)"
            ]
          },
          "execution_count": 6,
          "metadata": {},
          "output_type": "execute_result"
        }
      ],
      "source": [
        "dev.state"
      ]
    },
    {
      "cell_type": "markdown",
      "metadata": {
        "id": "8T72-1F-I86i"
      },
      "source": [
        "### Unitary evolutions\n",
        "\n",
        "<br />\n",
        "<img src=\"https://github.com/XanaduAI/pennylane-demo-cern/blob/main/figures/2.png?raw=1\" width=\"500\">\n",
        "<br />\n",
        "\n",
        "Quantum circuits are represented by unitary matrices. We can evolve the initial state by an arbitrary unitrary matrix as follows:"
      ]
    },
    {
      "cell_type": "code",
      "execution_count": null,
      "metadata": {
        "colab": {
          "base_uri": "https://localhost:8080/"
        },
        "id": "pR2xQvESI86i",
        "outputId": "3e307811-99e4-4632-8069-5baf84ca392a"
      },
      "outputs": [
        {
          "data": {
            "text/plain": [
              "tensor([0. , 0.5, 0.5, 0. ], requires_grad=True)"
            ]
          },
          "execution_count": 7,
          "metadata": {},
          "output_type": "execute_result"
        }
      ],
      "source": [
        "s = 1/np.sqrt(2)\n",
        "U = np.array([[0., -s, 0.,  s],\n",
        "              [ s, 0., -s, 0.],\n",
        "              [ s, 0.,  s, 0.],\n",
        "              [0., -s, 0., -s]])\n",
        "\n",
        "@qml.qnode(dev)\n",
        "def circuit():\n",
        "    qml.QubitUnitary(U, wires=[0, 1])\n",
        "    return qml.probs(wires=[0, 1])\n",
        "\n",
        "circuit()"
      ]
    },
    {
      "cell_type": "markdown",
      "metadata": {
        "id": "y1Lz95Lvi4nh"
      },
      "source": [
        "The internal quantum state changed."
      ]
    },
    {
      "cell_type": "code",
      "execution_count": null,
      "metadata": {
        "colab": {
          "base_uri": "https://localhost:8080/"
        },
        "id": "WGRCAysbI86i",
        "outputId": "63c1826b-56e3-4b20-c484-73ec0c20b436"
      },
      "outputs": [
        {
          "data": {
            "text/plain": [
              "tensor([0.        +0.j, 0.70710678+0.j, 0.70710678+0.j, 0.        +0.j], requires_grad=True)"
            ]
          },
          "execution_count": 8,
          "metadata": {},
          "output_type": "execute_result"
        }
      ],
      "source": [
        "dev.state"
      ]
    },
    {
      "cell_type": "markdown",
      "metadata": {
        "id": "j5D8HN8nI86j"
      },
      "source": [
        "### Measurements sample outcomes from the distribution\n",
        "\n",
        "<br />\n",
        "<img src=\"https://github.com/XanaduAI/pennylane-demo-cern/blob/main/figures/3.png?raw=1\" width=\"500\">\n",
        "<br />\n",
        "\n",
        "The most common measurement takes samples $-1, 1$ from the \"Pauli-Z\" observable. The samples indicate if the qubit was measured in state $| 0 \\rangle$ or $| 1 \\rangle$."
      ]
    },
    {
      "cell_type": "code",
      "execution_count": null,
      "metadata": {
        "colab": {
          "base_uri": "https://localhost:8080/"
        },
        "id": "BFFaTmh6I86j",
        "outputId": "fdcfafe5-9daa-46bf-ceb7-21359cefca3c"
      },
      "outputs": [
        {
          "data": {
            "text/plain": [
              "tensor([[ 1,  1, -1, ..., -1, -1, -1],\n",
              "        [-1, -1,  1, ...,  1,  1,  1]], requires_grad=True)"
            ]
          },
          "execution_count": 9,
          "metadata": {},
          "output_type": "execute_result"
        }
      ],
      "source": [
        "@qml.qnode(dev)\n",
        "def circuit():\n",
        "    qml.QubitUnitary(U, wires=[0, 1])\n",
        "    return qml.sample(qml.PauliZ(wires=0)), qml.sample(qml.PauliZ(wires=1))\n",
        "\n",
        "circuit()"
      ]
    },
    {
      "cell_type": "markdown",
      "metadata": {
        "id": "SKNa1k2eixFC"
      },
      "source": [
        "The quantum state should be still the same as above."
      ]
    },
    {
      "cell_type": "code",
      "execution_count": null,
      "metadata": {
        "colab": {
          "base_uri": "https://localhost:8080/"
        },
        "id": "kOpi8-62I86j",
        "outputId": "24a060bf-7fec-474c-f499-77a2baa5ba61"
      },
      "outputs": [
        {
          "data": {
            "text/plain": [
              "tensor([0.        +0.j, 0.70710678+0.j, 0.70710678+0.j, 0.        +0.j], requires_grad=True)"
            ]
          },
          "execution_count": 10,
          "metadata": {},
          "output_type": "execute_result"
        }
      ],
      "source": [
        "dev.state"
      ]
    },
    {
      "cell_type": "markdown",
      "metadata": {
        "id": "BPSoH3ddI86k"
      },
      "source": [
        "### Computing expectation values\n",
        "\n",
        "<br />\n",
        "<img src=\"https://github.com/XanaduAI/pennylane-demo-cern/blob/main/figures/4.png?raw=1\" width=\"500\">\n",
        "<br />\n",
        "\n",
        "When we want outputs of computations to be deterministic, we often interpret the expected measurement outcome as the result. This value is estimated by taking lots of samples and averaging over them."
      ]
    },
    {
      "cell_type": "code",
      "execution_count": null,
      "metadata": {
        "colab": {
          "base_uri": "https://localhost:8080/"
        },
        "id": "BTKPBpR3I86k",
        "outputId": "b1cd59c1-42b0-406c-87d7-73787a88e7bc"
      },
      "outputs": [
        {
          "data": {
            "text/plain": [
              "tensor([0., 0.], requires_grad=True)"
            ]
          },
          "execution_count": 11,
          "metadata": {},
          "output_type": "execute_result"
        }
      ],
      "source": [
        "@qml.qnode(dev)\n",
        "def circuit():\n",
        "    qml.QubitUnitary(U, wires=[0, 1])\n",
        "    return qml.expval(qml.PauliZ(wires=0)), qml.expval(qml.PauliZ(wires=1))\n",
        "\n",
        "circuit()"
      ]
    },
    {
      "cell_type": "markdown",
      "metadata": {
        "id": "TWenlG1AjJhu"
      },
      "source": [
        "Again, the quantum state should be the same as above."
      ]
    },
    {
      "cell_type": "code",
      "execution_count": null,
      "metadata": {
        "colab": {
          "base_uri": "https://localhost:8080/"
        },
        "id": "aSJl64R-I86k",
        "outputId": "444f812a-5c66-446e-dd23-bfd8c1e60569"
      },
      "outputs": [
        {
          "data": {
            "text/plain": [
              "tensor([0.        +0.j, 0.70710678+0.j, 0.70710678+0.j, 0.        +0.j], requires_grad=True)"
            ]
          },
          "execution_count": 12,
          "metadata": {},
          "output_type": "execute_result"
        }
      ],
      "source": [
        "dev.state"
      ]
    },
    {
      "cell_type": "markdown",
      "metadata": {
        "id": "KNiKBEjrI86l"
      },
      "source": [
        "### Quantum circuits are decomposed into gates\n",
        "\n",
        "<br />\n",
        "<img src=\"https://github.com/XanaduAI/pennylane-demo-cern/blob/main/figures/5.png?raw=1\" width=\"500\">\n",
        "<br />\n",
        "\n",
        "Quantum circuits rarely consist of one large unitary (which quickly becomes intractably large as the number of qubits grow). Instead, they are composed of *quantum gates*."
      ]
    },
    {
      "cell_type": "code",
      "execution_count": null,
      "metadata": {
        "colab": {
          "base_uri": "https://localhost:8080/"
        },
        "id": "Eoie7lnlI86l",
        "outputId": "755770ab-9bd4-4fd9-a187-9319929953dd"
      },
      "outputs": [
        {
          "data": {
            "text/plain": [
              "tensor([ 0., -1.], requires_grad=True)"
            ]
          },
          "execution_count": 13,
          "metadata": {},
          "output_type": "execute_result"
        }
      ],
      "source": [
        "@qml.qnode(dev)\n",
        "def circuit():\n",
        "    qml.PauliX(wires=0)\n",
        "    qml.CNOT(wires=[0,1])\n",
        "    qml.Hadamard(wires=0)\n",
        "    qml.PauliZ(wires=1)\n",
        "    return qml.expval(qml.PauliZ(wires=0)), qml.expval(qml.PauliZ(wires=1))\n",
        "\n",
        "circuit()"
      ]
    },
    {
      "cell_type": "markdown",
      "metadata": {
        "id": "IxU2qPYcI86l"
      },
      "source": [
        "### Some gates depend on \"control\" parameters\n",
        "\n",
        "<br />\n",
        "<img src=\"https://github.com/XanaduAI/pennylane-demo-cern/blob/main/figures/6.png?raw=1\" width=\"500\">\n",
        "<br />\n",
        "\n",
        "To train circuits, there is a special subset of gates which is of particular interest: the Pauli rotation gates. These \"rotate\" a special representation of the quantum state around a specific axis. The gates depend on a scalar parameter which is the angle of the rotation."
      ]
    },
    {
      "cell_type": "code",
      "execution_count": null,
      "metadata": {
        "id": "YwKk_sWmI86m",
        "outputId": "ca0ee2c3-b9ad-4b3d-cd4d-834bd89c6c25"
      },
      "outputs": [
        {
          "data": {
            "text/plain": [
              "tensor([0.36235775, 0.09693027], requires_grad=True)"
            ]
          },
          "execution_count": 14,
          "metadata": {},
          "output_type": "execute_result"
        }
      ],
      "source": [
        "@qml.qnode(dev)\n",
        "def circuit(w1, w2):\n",
        "    qml.RX(w1, wires=0)\n",
        "    qml.CNOT(wires=[0,1])\n",
        "    qml.RY(w2, wires=1)\n",
        "    return qml.expval(qml.PauliZ(wires=0)), qml.expval(qml.PauliZ(wires=1))\n",
        "\n",
        "circuit(1.2, 1.3)"
      ]
    },
    {
      "cell_type": "markdown",
      "metadata": {
        "id": "Oi_0wM9rI86m"
      },
      "source": [
        "The names `w1`, `w2` are already suggestive that these can be used like the trainable parameters of a classical machine learning model. But we could also call the control parameters `x1`, `x2` and encode data features into quantum states."
      ]
    },
    {
      "cell_type": "markdown",
      "metadata": {
        "id": "1fKFXs7OI86m"
      },
      "source": [
        "## 3. A full quantum machine learning model and its gradient"
      ]
    },
    {
      "cell_type": "markdown",
      "metadata": {
        "id": "QBEgX2RNI86n"
      },
      "source": [
        "Finally, we can use pre-coded routines or [templates](https://pennylane.readthedocs.io/en/stable/introduction/templates.html) to conveniently build full quantum machine learning model that include a data encoding part, and a trainable part.\n",
        "\n",
        "<br />\n",
        "<img src=\"https://github.com/XanaduAI/pennylane-demo-cern/blob/main/figures/7.png?raw=1\" width=\"500\">\n",
        "<br />\n",
        "\n",
        "Here, we will use the `AngleEmbedding` template to load the data, and the `BasicEntanglingLayers` as the trainable part of the circuit."
      ]
    },
    {
      "cell_type": "code",
      "execution_count": null,
      "metadata": {
        "colab": {
          "base_uri": "https://localhost:8080/"
        },
        "id": "qH4f8vYFI86n",
        "outputId": "f3a093cd-eaf1-41fd-ad56-6308ad16d1ad"
      },
      "outputs": [
        {
          "data": {
            "text/plain": [
              "tensor(0.012023, requires_grad=True)"
            ]
          },
          "execution_count": 15,
          "metadata": {},
          "output_type": "execute_result"
        }
      ],
      "source": [
        "@qml.qnode(dev)\n",
        "def quantum_model(x, w):\n",
        "    qml.templates.AngleEmbedding(x, wires=[0, 1])\n",
        "    qml.templates.BasicEntanglerLayers(w, wires=[0, 1])\n",
        "    return qml.expval(qml.PauliZ(wires=0))\n",
        "\n",
        "\n",
        "x = np.array([0.1, 0.2], requires_grad=False)\n",
        "w = np.array([[-2.1, 1.2], [-1.4, -3.9], [0.5, 0.2]])\n",
        "\n",
        "quantum_model(x, w)"
      ]
    },
    {
      "cell_type": "markdown",
      "metadata": {
        "id": "I-TOEGNdsUNx"
      },
      "source": [
        "We can draw the circuit."
      ]
    },
    {
      "cell_type": "code",
      "execution_count": null,
      "metadata": {
        "colab": {
          "base_uri": "https://localhost:8080/"
        },
        "id": "Ke03t-8ysP3V",
        "outputId": "ca963433-8af0-48ac-c281-85bdd1463ee2"
      },
      "outputs": [
        {
          "name": "stdout",
          "output_type": "stream",
          "text": [
            " 0: ──RX(0.1)──RX(-2.1)──╭C──RX(-1.4)──╭C──RX(0.5)──╭C──┤ ⟨Z⟩ \n",
            " 1: ──RX(0.2)──RX(1.2)───╰X──RX(-3.9)──╰X──RX(0.2)──╰X──┤     \n",
            "\n"
          ]
        }
      ],
      "source": [
        "print(quantum_model.draw())"
      ]
    },
    {
      "cell_type": "markdown",
      "metadata": {
        "id": "BSyTK18DI86n"
      },
      "source": [
        "The best thing is that by using PennyLane, we can easily compute its gradient!"
      ]
    },
    {
      "cell_type": "code",
      "execution_count": null,
      "metadata": {
        "id": "TH2NCZFkI86n",
        "outputId": "359e6e34-367f-488c-b669-97c472811022"
      },
      "outputs": [
        {
          "data": {
            "text/plain": [
              "(array([[ 1.69541373e-01, -2.77555756e-17],\n",
              "        [ 6.97079563e-02,  2.94902991e-17],\n",
              "        [ 1.69541373e-01,  1.90819582e-17]]),)"
            ]
          },
          "execution_count": 17,
          "metadata": {},
          "output_type": "execute_result"
        }
      ],
      "source": [
        "gradient_fn = qml.grad(quantum_model)\n",
        "\n",
        "gradient_fn(x, w)"
      ]
    },
    {
      "cell_type": "markdown",
      "metadata": {
        "id": "aG3rOjcOI86o"
      },
      "source": [
        "This allows us to slot the quantum circuit into the machine learning example from the previous notebook."
      ]
    },
    {
      "cell_type": "markdown",
      "metadata": {
        "id": "EzByfrW4I86o"
      },
      "source": [
        "#  TASKS\n",
        "\n",
        "1. Copy and paste the code from the previous notebook to here and replace the classical model by\n",
        "   the `quantum_model` function. This will allow you to train the model!"
      ]
    },
    {
      "cell_type": "markdown",
      "metadata": {
        "id": "Aqr4csQeKVtt"
      },
      "source": [
        "2. Add a bias term to the quantum model.\n",
        "\n",
        "A potential solution of 1 & 2 together:"
      ]
    },
    {
      "cell_type": "code",
      "execution_count": null,
      "metadata": {
        "id": "-BYl5qdjKVtt",
        "outputId": "8ce5e3e6-7d5b-4d41-fa42-beabb9bce7e0"
      },
      "outputs": [
        {
          "name": "stdout",
          "output_type": "stream",
          "text": [
            "1.9737277294002484\n",
            "1.931550858188764\n",
            "1.885820588402454\n",
            "1.8367568426717318\n",
            "1.7847158660372668\n",
            "1.7301898352722613\n",
            "1.67379472689706\n",
            "1.6162456985451192\n",
            "1.5583211676821624\n",
            "1.5008188308188122\n",
            "1.4445085381194334\n",
            "1.3900877334042192\n",
            "1.3381448153904907\n",
            "1.2891343387585172\n",
            "1.2433658449766325\n"
          ]
        }
      ],
      "source": [
        "n_samples = 100\n",
        "X0 = np.array([[np.random.normal(loc=-1, scale=1),\n",
        "                np.random.normal(loc=1, scale=1)] for i in range(n_samples//2)])\n",
        "X1 = np.array([[np.random.normal(loc=1, scale=1),\n",
        "                np.random.normal(loc=-1, scale=1)] for i in range(n_samples//2)])\n",
        "\n",
        "X = np.concatenate([X0, X1], axis=0)\n",
        "Y = np.concatenate([-np.ones(50), np.ones(50)], axis=0)\n",
        "data = list(zip(X, Y))\n",
        "\n",
        "def model_with_bias(x, w, b):\n",
        "    return quantum_model(x, w) + b\n",
        "\n",
        "def loss(a, b):\n",
        "    return (a - b)**2\n",
        "\n",
        "def average_loss(w, b, data):\n",
        "    c = 0\n",
        "    for x, y in data:\n",
        "        prediction = model_with_bias(x, w, b)\n",
        "        c += loss(prediction, y)\n",
        "    return c/len(data)\n",
        "\n",
        "gradient_fn_w = qml.grad(average_loss, argnum=0)\n",
        "gradient_fn_b = qml.grad(average_loss, argnum=1)\n",
        "\n",
        "w_init = np.random.random(size=(3, 2))\n",
        "w = np.array(w_init)\n",
        "b = np.array(0.0) # start with zero bias\n",
        "\n",
        "for i in range(15):\n",
        "    w_new = w - 0.05*gradient_fn_w(w, b, data)\n",
        "    b_new = b - 0.05*gradient_fn_b(w, b, data)\n",
        "    print(average_loss(w_new, b_new, data))\n",
        "    w = w_new\n",
        "    b = b_new"
      ]
    },
    {
      "cell_type": "markdown",
      "metadata": {
        "id": "nxRd3hNSKVtt"
      },
      "source": [
        "3. Replace the hand-coded optimisation step by a native [PennyLane optimiser](https://pennylane.readthedocs.io/en/stable/introduction/optimizers.html)."
      ]
    },
    {
      "cell_type": "code",
      "execution_count": null,
      "metadata": {
        "id": "r7KgdGkCKVtt",
        "outputId": "cc1053d5-e262-40f0-e567-bb0465df66a5"
      },
      "outputs": [
        {
          "name": "stdout",
          "output_type": "stream",
          "text": [
            "1.2433658449766325\n",
            "1.2010058624462203\n",
            "1.1620907816557215\n",
            "1.1265472292920382\n",
            "1.094216303496664\n",
            "1.0648784356711003\n",
            "1.0382764425943096\n",
            "1.014135252228783\n",
            "0.9921776223831842\n",
            "0.972135811805237\n",
            "0.9537595788243771\n",
            "0.9368210978596813\n",
            "0.9211174485747256\n",
            "0.9064712996215246\n",
            "0.8927303240804543\n"
          ]
        }
      ],
      "source": [
        "opt = qml.GradientDescentOptimizer(0.05)\n",
        "for i in range(15):\n",
        "\n",
        "    ([w, b], cst) = opt.step_and_cost(lambda w_, b_: average_loss(w_, b_, data), w, b)\n",
        "    print(cst)"
      ]
    },
    {
      "cell_type": "markdown",
      "metadata": {
        "id": "2OzbRCMgKVtt"
      },
      "source": [
        "4. Rewrite the entire example in PyTorch.\n",
        "\n",
        "   Tipp: You must set the qnode to the correct interface via `@qml.qnode(dev, interface='tf')`."
      ]
    },
    {
      "cell_type": "code",
      "execution_count": null,
      "metadata": {
        "id": "3tXR6ygNI86o",
        "outputId": "a52b3a1c-dc4c-47be-cfaa-d97b68652a0b"
      },
      "outputs": [
        {
          "name": "stderr",
          "output_type": "stream",
          "text": [
            "/home/maria/Desktop/XANADU/PennyLane demo/cern_tutorial/lib/python3.8/site-packages/torch/autograd/__init__.py:130: UserWarning: CUDA initialization: Found no NVIDIA driver on your system. Please check that you have an NVIDIA GPU and installed a driver from http://www.nvidia.com/Download/index.aspx (Triggered internally at  /pytorch/c10/cuda/CUDAFunctions.cpp:100.)\n",
            "  Variable._execution_engine.run_backward(\n"
          ]
        },
        {
          "name": "stdout",
          "output_type": "stream",
          "text": [
            "tensor(1.6454, dtype=torch.float64, grad_fn=<DivBackward0>)\n",
            "tensor(1.4511, dtype=torch.float64, grad_fn=<DivBackward0>)\n",
            "tensor(1.2631, dtype=torch.float64, grad_fn=<DivBackward0>)\n",
            "tensor(1.0959, dtype=torch.float64, grad_fn=<DivBackward0>)\n",
            "tensor(0.9616, dtype=torch.float64, grad_fn=<DivBackward0>)\n",
            "tensor(0.8668, dtype=torch.float64, grad_fn=<DivBackward0>)\n",
            "tensor(0.8105, dtype=torch.float64, grad_fn=<DivBackward0>)\n",
            "tensor(0.7836, dtype=torch.float64, grad_fn=<DivBackward0>)\n",
            "tensor(0.7733, dtype=torch.float64, grad_fn=<DivBackward0>)\n",
            "tensor(0.7689, dtype=torch.float64, grad_fn=<DivBackward0>)\n",
            "tensor(0.7646, dtype=torch.float64, grad_fn=<DivBackward0>)\n",
            "tensor(0.7593, dtype=torch.float64, grad_fn=<DivBackward0>)\n",
            "tensor(0.7539, dtype=torch.float64, grad_fn=<DivBackward0>)\n",
            "tensor(0.7500, dtype=torch.float64, grad_fn=<DivBackward0>)\n",
            "tensor(0.7483, dtype=torch.float64, grad_fn=<DivBackward0>)\n"
          ]
        }
      ],
      "source": [
        "import torch\n",
        "\n",
        "data = [[torch.tensor(x), torch.tensor(y)] for x, y in data]\n",
        "\n",
        "\n",
        "@qml.qnode(dev, interface='torch')\n",
        "def quantum_model(x, w):\n",
        "    qml.templates.AngleEmbedding(x, wires=[0, 1])\n",
        "    qml.templates.BasicEntanglerLayers(w, wires=[0, 1])\n",
        "    return qml.expval(qml.PauliZ(wires=0))\n",
        "\n",
        "def average_loss(w, data):\n",
        "    c = 0\n",
        "    for x, y in data:\n",
        "        prediction = quantum_model(x, w)\n",
        "        c += loss(prediction, y)\n",
        "    return c/len(data)\n",
        "\n",
        "w_init = np.random.random(size=(3, 2))\n",
        "\n",
        "w = torch.tensor(w_init, requires_grad=True)\n",
        "\n",
        "opt = torch.optim.Adam([w], lr = 0.1)\n",
        "\n",
        "# One way of optimising is to use closures\n",
        "def closure():\n",
        "    opt.zero_grad()\n",
        "    loss = average_loss(w, data)\n",
        "    loss.backward()\n",
        "    return loss\n",
        "\n",
        "for i in range(15):\n",
        "    opt.step(closure)\n",
        "\n",
        "    print(average_loss(w, data))\n",
        ""
      ]
    }
  ],
  "metadata": {
    "colab": {
      "name": "2-differentiable-quantum-computing.ipynb",
      "provenance": [],
      "include_colab_link": true
    },
    "kernelspec": {
      "display_name": "cern_tutorial",
      "language": "python",
      "name": "cern_tutorial"
    },
    "language_info": {
      "codemirror_mode": {
        "name": "ipython",
        "version": 3
      },
      "file_extension": ".py",
      "mimetype": "text/x-python",
      "name": "python",
      "nbconvert_exporter": "python",
      "pygments_lexer": "ipython3",
      "version": "3.8.5"
    }
  },
  "nbformat": 4,
  "nbformat_minor": 0
}